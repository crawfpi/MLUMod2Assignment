{
 "cells": [
  {
   "cell_type": "markdown",
   "id": "38f32fe0",
   "metadata": {
    "deletable": false,
    "editable": false,
    "nbgrader": {
     "cell_type": "markdown",
     "checksum": "556d9673a40cef731438819650b4afeb",
     "grade": false,
     "grade_id": "cell-3fab386f48bbd974",
     "locked": true,
     "schema_version": 3,
     "solution": false,
     "task": false
    }
   },
   "source": [
    "### Grading\n",
    "This week's lab doesn't have any auto-graded components. Each question in this notebook has an accompanying Peer Review question. Although the lab shows as being ungraded, you need to complete the notebook to answer the Peer Review questions. <br>\n",
    "**DO NOT CHANGE VARIABLE OR METHOD SIGNATURES** "
   ]
  },
  {
   "cell_type": "markdown",
   "id": "f9f1d8ea",
   "metadata": {
    "deletable": false,
    "editable": false,
    "nbgrader": {
     "cell_type": "markdown",
     "checksum": "19ae55b356f0ad3dfda48f3cb99dddb9",
     "grade": false,
     "grade_id": "cell-9488ace019b4c835",
     "locked": true,
     "schema_version": 3,
     "solution": false,
     "task": false
    }
   },
   "source": [
    "### Validate Button\n",
    "This week's lab doesn't have any auto-graded components. Each question in this notebook has an accompanying Peer Review question. Although the lab shows as being ungraded, you need to complete the notebook to answer the Peer Review questions. \n",
    "\n",
    "You do not need to use the Validate button for this lab since there are no auto-graded components. If you hit the Validate button, it will time out given the number of visualizations in the notebook. Cells with longer execution times cause the validate button to time out and freeze. ***This notebook's Validate button time-out does not affect the final submission grading.*** "
   ]
  },
  {
   "cell_type": "markdown",
   "id": "7a672bde",
   "metadata": {
    "deletable": false,
    "editable": false,
    "id": "local-marketing",
    "nbgrader": {
     "cell_type": "markdown",
     "checksum": "412c0fbff4d9e5401141ed5f953ba132",
     "grade": false,
     "grade_id": "cell-539bfe3db5c0f774",
     "locked": true,
     "schema_version": 3,
     "solution": false,
     "task": false
    }
   },
   "source": [
    "# Clustering RNA sequences to identify cancer types\n",
    "\n",
    "In this assignment, we will use clustering algorithms on RNA sequence data to identify cancer types.\n",
    "Since the [whole data](https://www.synapse.org/#!Synapse:syn4301332) (from [Cancer Genome Atlas Pan-Cancer project](https://www.ncbi.nlm.nih.gov/pmc/articles/PMC3919969/)) is very big, we will use a [subset data from UCI Machine Learning repository](https://archive.ics.uci.edu/ml/datasets/gene+expression+cancer+RNA-Seq#). The subset data contains only 5 labels; BRCA, KIRC, COAD, LUAD and PRAD. The meanings of those labels are as below.\n",
    "\n",
    "|Abbreviation|Cancer|\n",
    "|:----:|:-------:|\n",
    "|LUSC|Lung squamous cell carcinoma |\n",
    "|READ |Rectum adenocarcinoma |\n",
    "|GBM |Glioblastoma multiforme|\n",
    "|BLCA |Bladder Urothelial Carcinoma|\n",
    "|UCEC |Uterine Corpus Endometrioid Carcinoma|\n",
    "|COAD |Colon adenocarcinoma|\n",
    "|OV |Ovarian serous cystadenocarcinoma|\n",
    "|LAML |Acute Myeloid Leukemia|\n",
    "|HNSC |Head and Neck squamous cell carcinoma|\n",
    "|LUAD |Lung adenocarcinoma|\n",
    "|BRCA |Breast invasive carcinoma|\n",
    "|KIRC |Kidney renal clear cell carcinoma|\n",
    "\n",
    "Although we can use the data for supervised learning model training, we will not use these labels for training, but use them for evaluation."
   ]
  },
  {
   "cell_type": "code",
   "execution_count": 2,
   "id": "568b09aa",
   "metadata": {
    "deletable": false,
    "editable": false,
    "id": "ordered-pasta",
    "nbgrader": {
     "cell_type": "code",
     "checksum": "deb30e3992bd6264bc0999a631f4f249",
     "grade": false,
     "grade_id": "cell-aae50706a878da7b",
     "locked": true,
     "schema_version": 3,
     "solution": false,
     "task": false
    }
   },
   "outputs": [],
   "source": [
    "import pandas as pd\n",
    "import matplotlib.pyplot as plt\n",
    "import numpy as np\n",
    "from sklearn.cluster import AgglomerativeClustering, KMeans\n",
    "from sklearn.metrics import accuracy_score, confusion_matrix\n",
    "import time"
   ]
  },
  {
   "cell_type": "code",
   "execution_count": 3,
   "id": "e105c0d8",
   "metadata": {
    "deletable": false,
    "editable": false,
    "id": "forbidden-patrol",
    "nbgrader": {
     "cell_type": "code",
     "checksum": "7d54524a953add3d7536b6f813e910b6",
     "grade": false,
     "grade_id": "cell-0349e5e5a7302cd2",
     "locked": true,
     "schema_version": 3,
     "solution": false,
     "task": false
    }
   },
   "outputs": [],
   "source": [
    "# Read data. Do not change the variable names (data, label)\n",
    "data = pd.read_csv('data/data.csv')\n",
    "label = pd.read_csv('data/labels.csv')\n",
    "data=data.drop('Unnamed: 0',axis=1)\n",
    "label=label.drop('Unnamed: 0',axis=1)"
   ]
  },
  {
   "cell_type": "markdown",
   "id": "b5556586",
   "metadata": {
    "deletable": false,
    "editable": false,
    "id": "universal-consultancy",
    "nbgrader": {
     "cell_type": "markdown",
     "checksum": "70fad3bc72f0de4ef37faa39dbc1aca1",
     "grade": false,
     "grade_id": "cell-a2791930798cf4eb",
     "locked": true,
     "schema_version": 3,
     "solution": false,
     "task": false
    }
   },
   "source": [
    "### A. [Peer Review] Perform basic data inspection or EDA on the pandas dataframe.\n",
    "- How many observations?\n",
    "- How many features?"
   ]
  },
  {
   "cell_type": "code",
   "execution_count": 5,
   "id": "b3128bbd",
   "metadata": {
    "deletable": false,
    "nbgrader": {
     "cell_type": "code",
     "checksum": "3b9a724c90825ae8d7bc9a7d59a37620",
     "grade": false,
     "grade_id": "cell-2958c08df1714546",
     "locked": false,
     "schema_version": 3,
     "solution": true,
     "task": false
    }
   },
   "outputs": [
    {
     "name": "stdout",
     "output_type": "stream",
     "text": [
      "Data shape: (801, 20531)\n",
      "Label shape: (801, 1)\n",
      "Data info:\n",
      "<class 'pandas.core.frame.DataFrame'>\n",
      "RangeIndex: 801 entries, 0 to 800\n",
      "Columns: 20531 entries, gene_0 to gene_20530\n",
      "dtypes: float64(20531)\n",
      "memory usage: 125.5 MB\n",
      "None\n",
      "Label info:\n",
      "<class 'pandas.core.frame.DataFrame'>\n",
      "RangeIndex: 801 entries, 0 to 800\n",
      "Data columns (total 1 columns):\n",
      " #   Column  Non-Null Count  Dtype \n",
      "---  ------  --------------  ----- \n",
      " 0   Class   801 non-null    object\n",
      "dtypes: object(1)\n",
      "memory usage: 6.4+ KB\n",
      "None\n"
     ]
    },
    {
     "data": {
      "text/html": [
       "<div>\n",
       "<style scoped>\n",
       "    .dataframe tbody tr th:only-of-type {\n",
       "        vertical-align: middle;\n",
       "    }\n",
       "\n",
       "    .dataframe tbody tr th {\n",
       "        vertical-align: top;\n",
       "    }\n",
       "\n",
       "    .dataframe thead th {\n",
       "        text-align: right;\n",
       "    }\n",
       "</style>\n",
       "<table border=\"1\" class=\"dataframe\">\n",
       "  <thead>\n",
       "    <tr style=\"text-align: right;\">\n",
       "      <th></th>\n",
       "      <th>gene_0</th>\n",
       "      <th>gene_1</th>\n",
       "      <th>gene_2</th>\n",
       "      <th>gene_3</th>\n",
       "      <th>gene_4</th>\n",
       "      <th>gene_5</th>\n",
       "      <th>gene_6</th>\n",
       "      <th>gene_7</th>\n",
       "      <th>gene_8</th>\n",
       "      <th>gene_9</th>\n",
       "      <th>...</th>\n",
       "      <th>gene_20521</th>\n",
       "      <th>gene_20522</th>\n",
       "      <th>gene_20523</th>\n",
       "      <th>gene_20524</th>\n",
       "      <th>gene_20525</th>\n",
       "      <th>gene_20526</th>\n",
       "      <th>gene_20527</th>\n",
       "      <th>gene_20528</th>\n",
       "      <th>gene_20529</th>\n",
       "      <th>gene_20530</th>\n",
       "    </tr>\n",
       "  </thead>\n",
       "  <tbody>\n",
       "    <tr>\n",
       "      <th>0</th>\n",
       "      <td>0.0</td>\n",
       "      <td>2.017209</td>\n",
       "      <td>3.265527</td>\n",
       "      <td>5.478487</td>\n",
       "      <td>10.431999</td>\n",
       "      <td>0.0</td>\n",
       "      <td>7.175175</td>\n",
       "      <td>0.591871</td>\n",
       "      <td>0.0</td>\n",
       "      <td>0.0</td>\n",
       "      <td>...</td>\n",
       "      <td>4.926711</td>\n",
       "      <td>8.210257</td>\n",
       "      <td>9.723516</td>\n",
       "      <td>7.220030</td>\n",
       "      <td>9.119813</td>\n",
       "      <td>12.003135</td>\n",
       "      <td>9.650743</td>\n",
       "      <td>8.921326</td>\n",
       "      <td>5.286759</td>\n",
       "      <td>0.0</td>\n",
       "    </tr>\n",
       "    <tr>\n",
       "      <th>1</th>\n",
       "      <td>0.0</td>\n",
       "      <td>0.592732</td>\n",
       "      <td>1.588421</td>\n",
       "      <td>7.586157</td>\n",
       "      <td>9.623011</td>\n",
       "      <td>0.0</td>\n",
       "      <td>6.816049</td>\n",
       "      <td>0.000000</td>\n",
       "      <td>0.0</td>\n",
       "      <td>0.0</td>\n",
       "      <td>...</td>\n",
       "      <td>4.593372</td>\n",
       "      <td>7.323865</td>\n",
       "      <td>9.740931</td>\n",
       "      <td>6.256586</td>\n",
       "      <td>8.381612</td>\n",
       "      <td>12.674552</td>\n",
       "      <td>10.517059</td>\n",
       "      <td>9.397854</td>\n",
       "      <td>2.094168</td>\n",
       "      <td>0.0</td>\n",
       "    </tr>\n",
       "    <tr>\n",
       "      <th>2</th>\n",
       "      <td>0.0</td>\n",
       "      <td>3.511759</td>\n",
       "      <td>4.327199</td>\n",
       "      <td>6.881787</td>\n",
       "      <td>9.870730</td>\n",
       "      <td>0.0</td>\n",
       "      <td>6.972130</td>\n",
       "      <td>0.452595</td>\n",
       "      <td>0.0</td>\n",
       "      <td>0.0</td>\n",
       "      <td>...</td>\n",
       "      <td>5.125213</td>\n",
       "      <td>8.127123</td>\n",
       "      <td>10.908640</td>\n",
       "      <td>5.401607</td>\n",
       "      <td>9.911597</td>\n",
       "      <td>9.045255</td>\n",
       "      <td>9.788359</td>\n",
       "      <td>10.090470</td>\n",
       "      <td>1.683023</td>\n",
       "      <td>0.0</td>\n",
       "    </tr>\n",
       "    <tr>\n",
       "      <th>3</th>\n",
       "      <td>0.0</td>\n",
       "      <td>3.663618</td>\n",
       "      <td>4.507649</td>\n",
       "      <td>6.659068</td>\n",
       "      <td>10.196184</td>\n",
       "      <td>0.0</td>\n",
       "      <td>7.843375</td>\n",
       "      <td>0.434882</td>\n",
       "      <td>0.0</td>\n",
       "      <td>0.0</td>\n",
       "      <td>...</td>\n",
       "      <td>6.076566</td>\n",
       "      <td>8.792959</td>\n",
       "      <td>10.141520</td>\n",
       "      <td>8.942805</td>\n",
       "      <td>9.601208</td>\n",
       "      <td>11.392682</td>\n",
       "      <td>9.694814</td>\n",
       "      <td>9.684365</td>\n",
       "      <td>3.292001</td>\n",
       "      <td>0.0</td>\n",
       "    </tr>\n",
       "    <tr>\n",
       "      <th>4</th>\n",
       "      <td>0.0</td>\n",
       "      <td>2.655741</td>\n",
       "      <td>2.821547</td>\n",
       "      <td>6.539454</td>\n",
       "      <td>9.738265</td>\n",
       "      <td>0.0</td>\n",
       "      <td>6.566967</td>\n",
       "      <td>0.360982</td>\n",
       "      <td>0.0</td>\n",
       "      <td>0.0</td>\n",
       "      <td>...</td>\n",
       "      <td>5.996032</td>\n",
       "      <td>8.891425</td>\n",
       "      <td>10.373790</td>\n",
       "      <td>7.181162</td>\n",
       "      <td>9.846910</td>\n",
       "      <td>11.922439</td>\n",
       "      <td>9.217749</td>\n",
       "      <td>9.461191</td>\n",
       "      <td>5.110372</td>\n",
       "      <td>0.0</td>\n",
       "    </tr>\n",
       "  </tbody>\n",
       "</table>\n",
       "<p>5 rows × 20531 columns</p>\n",
       "</div>"
      ],
      "text/plain": [
       "   gene_0    gene_1    gene_2    gene_3     gene_4  gene_5    gene_6  \\\n",
       "0     0.0  2.017209  3.265527  5.478487  10.431999     0.0  7.175175   \n",
       "1     0.0  0.592732  1.588421  7.586157   9.623011     0.0  6.816049   \n",
       "2     0.0  3.511759  4.327199  6.881787   9.870730     0.0  6.972130   \n",
       "3     0.0  3.663618  4.507649  6.659068  10.196184     0.0  7.843375   \n",
       "4     0.0  2.655741  2.821547  6.539454   9.738265     0.0  6.566967   \n",
       "\n",
       "     gene_7  gene_8  gene_9  ...  gene_20521  gene_20522  gene_20523  \\\n",
       "0  0.591871     0.0     0.0  ...    4.926711    8.210257    9.723516   \n",
       "1  0.000000     0.0     0.0  ...    4.593372    7.323865    9.740931   \n",
       "2  0.452595     0.0     0.0  ...    5.125213    8.127123   10.908640   \n",
       "3  0.434882     0.0     0.0  ...    6.076566    8.792959   10.141520   \n",
       "4  0.360982     0.0     0.0  ...    5.996032    8.891425   10.373790   \n",
       "\n",
       "   gene_20524  gene_20525  gene_20526  gene_20527  gene_20528  gene_20529  \\\n",
       "0    7.220030    9.119813   12.003135    9.650743    8.921326    5.286759   \n",
       "1    6.256586    8.381612   12.674552   10.517059    9.397854    2.094168   \n",
       "2    5.401607    9.911597    9.045255    9.788359   10.090470    1.683023   \n",
       "3    8.942805    9.601208   11.392682    9.694814    9.684365    3.292001   \n",
       "4    7.181162    9.846910   11.922439    9.217749    9.461191    5.110372   \n",
       "\n",
       "   gene_20530  \n",
       "0         0.0  \n",
       "1         0.0  \n",
       "2         0.0  \n",
       "3         0.0  \n",
       "4         0.0  \n",
       "\n",
       "[5 rows x 20531 columns]"
      ]
     },
     "execution_count": 5,
     "metadata": {},
     "output_type": "execute_result"
    }
   ],
   "source": [
    "# perform basic data inspection such as getting the number of observations and number of features\n",
    "# you can also display part of the dataframe or run data.info() \n",
    "# your code here\n",
    "#801 rows (observations/samples)\n",
    "#20531 columns (features) (gene_0 to gene_20530)\n",
    "print(\"Data shape:\", data.shape)\n",
    "print(\"Label shape:\", label.shape)\n",
    "print(\"Data info:\")\n",
    "print(data.info())\n",
    "print(\"Label info:\")\n",
    "print(label.info())\n",
    "data.head()"
   ]
  },
  {
   "cell_type": "markdown",
   "id": "fa352f34",
   "metadata": {
    "deletable": false,
    "editable": false,
    "nbgrader": {
     "cell_type": "markdown",
     "checksum": "65492cc771478d0c9c26f1a73857843a",
     "grade": false,
     "grade_id": "cell-bde1524da0e9a63f",
     "locked": true,
     "schema_version": 3,
     "solution": false,
     "task": false
    }
   },
   "source": [
    "- Draw histograms of mean, max and min values in each feature. You may see numbers around 0-20. What do those numbers mean? (We do not expect students to know or figure out the meanings, but if you do know by chance, feel free to discuss them with the class on the discussion board.) <br>\n",
    "Answer the Peer Review question about this section. "
   ]
  },
  {
   "cell_type": "code",
   "execution_count": 8,
   "id": "b2f4f05f",
   "metadata": {
    "deletable": false,
    "nbgrader": {
     "cell_type": "code",
     "checksum": "b4abf73a9c24337560f0e0557bb0f7df",
     "grade": false,
     "grade_id": "cell-dcce43bb9bf942c0",
     "locked": false,
     "schema_version": 3,
     "solution": true,
     "task": false
    }
   },
   "outputs": [
    {
     "data": {
      "image/png": "[encoded data removed]",
      "text/plain": [
       "<Figure size 1500x500 with 3 Axes>"
      ]
     },
     "metadata": {},
     "output_type": "display_data"
    }
   ],
   "source": [
    "# draw histograms of mean, max and min values in each feature \n",
    "# your code here\n",
    "# Create histograms\n",
    "fig, axes = plt.subplots(1, 3, figsize=(15, 5))\n",
    "# Draw histograms of mean, max and min values in each feature\n",
    "# Calculate statistics for each feature (column)\n",
    "feature_means = data.mean(axis=0, skipna=True)  # Mean across observations for each feature\n",
    "feature_maxs = data.max(axis=0, skipna=True)    # Max across observations for each feature\n",
    "feature_mins = data.min(axis=0, skipna=True)    # Min across observations for each feature\n",
    "\n",
    "# Histogram of feature means\n",
    "axes[0].hist(feature_means, bins=50, alpha=0.7, color='blue', edgecolor='black')\n",
    "axes[0].set_title('Histogram of Feature Means')\n",
    "axes[0].set_xlabel('Mean Value')\n",
    "axes[0].set_ylabel('Number of Features')\n",
    "axes[0].grid(True, alpha=0.3)\n",
    "\n",
    "# Histogram of feature maximums\n",
    "axes[1].hist(feature_maxs, bins=50, alpha=0.7, color='green', edgecolor='black')\n",
    "axes[1].set_title('Histogram of Feature Maximums')\n",
    "axes[1].set_xlabel('Maximum Value')\n",
    "axes[1].set_ylabel('Number of Features')\n",
    "axes[1].grid(True, alpha=0.3)\n",
    "\n",
    "# Histogram of feature minimums\n",
    "axes[2].hist(feature_mins, bins=50, alpha=0.7, color='red', edgecolor='black')\n",
    "axes[2].set_title('Histogram of Feature Minimums')\n",
    "axes[2].set_xlabel('Minimum Value')\n",
    "axes[2].set_ylabel('Number of Features')\n",
    "axes[2].grid(True, alpha=0.3)\n",
    "\n",
    "plt.tight_layout()\n",
    "plt.show()"
   ]
  },
  {
   "cell_type": "markdown",
   "id": "b389fe68",
   "metadata": {
    "deletable": false,
    "editable": false,
    "nbgrader": {
     "cell_type": "markdown",
     "checksum": "f10e915af8708dc8de4c6a2a8ca51108",
     "grade": false,
     "grade_id": "cell-6736f47726a243e7",
     "locked": true,
     "schema_version": 3,
     "solution": false,
     "task": false
    }
   },
   "source": [
    "- If we were to train a \"supervised\" learning model, how would you deal with such large feature dimension? \n",
    "- Even after feature dimension reduction, still the number of useful features may be enormous. How it would impact performance or runtime of certain supervised learning algorithms? Which algorithms would suffer from high dimension features than others and why? \n",
    "- How it would impact performance or runtime of an unsupervised learning algorithm?\n",
    "- Draw histograms of mean, max and min values in each feature. You may see numbers around 0-20. What those numbers mean? (We do not expect students to know or figure out the meanings, but if you do know by chance, feel free to discuss them with the class on the discussion board.) <br> <br>\n",
    "Anwer these questions in this week's Peer Review assignment. "
   ]
  },
  {
   "cell_type": "markdown",
   "id": "9bb69b05",
   "metadata": {
    "deletable": false,
    "editable": false,
    "nbgrader": {
     "cell_type": "markdown",
     "checksum": "36d2fc3f5b54ad32960f5d4ae52f2100",
     "grade": false,
     "grade_id": "cell-f89786ce6c22a413",
     "locked": true,
     "schema_version": 3,
     "solution": false,
     "task": false
    }
   },
   "source": [
    "### B. [Peer Review] Build a hierarchical clustering model\n",
    "Let's build a model using hierarchical clustering. Hierarchical clustering module is available from `sklearn.cluster.AgglomerativeClustering`. You can choose linkage type and metric. Please check its documentation for more details."
   ]
  },
  {
   "cell_type": "markdown",
   "id": "20c4a6ad",
   "metadata": {
    "deletable": false,
    "editable": false,
    "nbgrader": {
     "cell_type": "markdown",
     "checksum": "944b291a4ed47f6acd91034c448514b9",
     "grade": false,
     "grade_id": "cell-20bd5000b96709cd",
     "locked": true,
     "schema_version": 3,
     "solution": false,
     "task": false
    }
   },
   "source": [
    "**a) Number of clusters vs distance threshold**\n",
    "Oftentimes hierarchical clustering does not need to know the number of clusters in advance. Instead, one needs to choose threshold distance/similarity to cut the dendrogram later. The AgglomerativeClustering module lets you specify either the number of clusters (n_clusters) or the threshold (distance_threshold). Based on our data, which should we choose to set to which value and why? <br> <br>\n",
    "Answer this question in the Peer Review assignment. "
   ]
  },
  {
   "cell_type": "markdown",
   "id": "a0595ee5",
   "metadata": {
    "deletable": false,
    "editable": false,
    "nbgrader": {
     "cell_type": "markdown",
     "checksum": "479da534d14157edc6cab3a8c6dce4b6",
     "grade": false,
     "grade_id": "cell-1dcb3a4ab605373a",
     "locked": true,
     "schema_version": 3,
     "solution": false,
     "task": false
    }
   },
   "source": [
    "#### b) Guess which metric?\n",
    "Can you guess which metric to use (distance-based vs. similarity-based) and why? \n",
    "This question is not graded, but we encourage you to share your thoughts with the class. See the ungraded discussion prompt for this week's material. "
   ]
  },
  {
   "cell_type": "markdown",
   "id": "710e68f5",
   "metadata": {
    "deletable": false,
    "editable": false,
    "nbgrader": {
     "cell_type": "markdown",
     "checksum": "e2681cdcd943f508b334d717be6461f4",
     "grade": false,
     "grade_id": "cell-3bdcbf312ff9cbef",
     "locked": true,
     "schema_version": 3,
     "solution": false,
     "task": false
    }
   },
   "source": [
    "#### c) Build a model\n",
    "Build a model using n_clusters=5 option. Choose any metric and linkage type at first. Display the clustering result labels (you can just print out the result). Do not change the variable (model) name. Answer the question about this section in the Peer Review."
   ]
  },
  {
   "cell_type": "code",
   "execution_count": 32,
   "id": "8d964503",
   "metadata": {
    "deletable": false,
    "nbgrader": {
     "cell_type": "code",
     "checksum": "7a026cf9b5831deeb187d3b6279c2cbd",
     "grade": false,
     "grade_id": "cell-a182891914c1787d",
     "locked": false,
     "schema_version": 3,
     "solution": true,
     "task": false
    }
   },
   "outputs": [],
   "source": [
    "# build a model using n_clusters=5 option\n",
    "model=None\n",
    "# your code here\n",
    "# For gene expression data, we need to determine the number of clusters\n",
    "# Let's check the actual classes in the labels\n",
    "n=5\n",
    "hc_ward = AgglomerativeClustering(\n",
    "    n_clusters=n_clusters,\n",
    "    linkage='ward',      # Ward minimizes within-cluster variance\n",
    "    metric='euclidean'\n",
    ")\n",
    "model = hc_ward.fit(data)\n"
   ]
  },
  {
   "cell_type": "markdown",
   "id": "9637b0c7",
   "metadata": {
    "deletable": false,
    "editable": false,
    "nbgrader": {
     "cell_type": "markdown",
     "checksum": "fa88212d918a8521a87412958a95f3ef",
     "grade": false,
     "grade_id": "cell-14da739b5647db81",
     "locked": true,
     "schema_version": 3,
     "solution": false,
     "task": false
    }
   },
   "source": [
    "#### d) Label permuation\n",
    "In clustering, the labels get assigned randomly, so the label numbering won't match the ground truth necessarily. Write a function below to find best matching label ordering based on the accuracy. Do not change the variable names. Answer the question about this section in the Peer Review. "
   ]
  },
  {
   "cell_type": "code",
   "execution_count": 33,
   "id": "91432792",
   "metadata": {
    "deletable": false,
    "nbgrader": {
     "cell_type": "code",
     "checksum": "f47665d2983a53c6a92c098e5070fc63",
     "grade": false,
     "grade_id": "cell-82b20e00978bc5e6",
     "locked": false,
     "schema_version": 3,
     "solution": true,
     "task": false
    }
   },
   "outputs": [],
   "source": [
    "import itertools\n",
    "\n",
    "def label_permute_compare(ytdf,yp,n=5):\n",
    "    \"\"\"\n",
    "    ytdf: labels dataframe object\n",
    "    yp: clustering label prediction output\n",
    "    Returns permuted label order and accuracy. \n",
    "    Example output: (3, 4, 1, 2, 0), 0.74 \n",
    "    \"\"\"\n",
    "\n",
    "    # Convert dataframe to numpy array for easier handling\n",
    "    yt = ytdf.values.flatten() if hasattr(ytdf, 'values') else ytdf\n",
    "    \n",
    "    # Get unique labels from ground truth and predictions\n",
    "    unique_true = np.unique(yt)\n",
    "    unique_pred = np.unique(yp)\n",
    "    \n",
    "    # Ensure we have the same number of unique labels\n",
    "    n_classes = len(unique_true)\n",
    "    \n",
    "    # Create mapping from string labels to integers if needed\n",
    "    true_label_to_int = {label: i for i, label in enumerate(unique_true)}\n",
    "    yt_int = np.array([true_label_to_int[label] for label in yt])\n",
    "    \n",
    "    # Try all possible permutations of predicted labels\n",
    "    best_accuracy = 0\n",
    "    best_permutation = None\n",
    "    \n",
    "    # Generate all permutations of predicted cluster labels\n",
    "    for perm in itertools.permutations(range(n_classes)):\n",
    "        # Create mapping from old predicted labels to new labels based on permutation\n",
    "        yp_permuted = np.zeros_like(yp)\n",
    "        for i, new_label in enumerate(perm):\n",
    "            yp_permuted[yp == i] = new_label\n",
    "        \n",
    "        # Calculate accuracy for this permutation\n",
    "        accuracy = accuracy_score(yt_int, yp_permuted)\n",
    "        \n",
    "        # Keep track of best permutation\n",
    "        if accuracy > best_accuracy:\n",
    "            best_accuracy = accuracy\n",
    "            best_permutation = perm\n",
    "    \n",
    "    return best_permutation, best_accuracy\n",
    "\n"
   ]
  },
  {
   "cell_type": "code",
   "execution_count": 34,
   "id": "37469d78",
   "metadata": {
    "deletable": false,
    "editable": false,
    "nbgrader": {
     "cell_type": "code",
     "checksum": "cf8892a7991eab729501b9f12fa11ae1",
     "grade": false,
     "grade_id": "cell-e59b3dddfdc36871",
     "locked": true,
     "schema_version": 3,
     "solution": false,
     "task": false
    }
   },
   "outputs": [
    {
     "name": "stdout",
     "output_type": "stream",
     "text": [
      "(0, 2, 4, 3, 1) 0.9950062421972534\n"
     ]
    }
   ],
   "source": [
    "labelorder, acc = label_permute_compare(label, model.labels_)\n",
    "print(labelorder, acc)"
   ]
  },
  {
   "cell_type": "markdown",
   "id": "f180f5b7",
   "metadata": {
    "deletable": false,
    "editable": false,
    "nbgrader": {
     "cell_type": "markdown",
     "checksum": "246f7bd7bd4cacc06d3d8e7b0811e06b",
     "grade": false,
     "grade_id": "cell-2dee0f590af15ca1",
     "locked": true,
     "schema_version": 3,
     "solution": false,
     "task": false
    }
   },
   "source": [
    "#### e) Check confusion matrix\n",
    "Use sklearn's confusion matrix and display the results. Answer the Peer Review question about this section.  "
   ]
  },
  {
   "cell_type": "code",
   "execution_count": 38,
   "id": "f5e51256",
   "metadata": {
    "deletable": false,
    "nbgrader": {
     "cell_type": "code",
     "checksum": "7db659d69e66d44725a24b1f90796541",
     "grade": false,
     "grade_id": "cell-b7fe98331f7b544f",
     "locked": false,
     "schema_version": 3,
     "solution": true,
     "task": false
    }
   },
   "outputs": [
    {
     "name": "stdout",
     "output_type": "stream",
     "text": [
      "\n",
      "Confusion Matrix:\n",
      "[[299   0   0   1   0]\n",
      " [  0  77   0   1   0]\n",
      " [  0   0 146   0   0]\n",
      " [  2   0   0 139   0]\n",
      " [  0   0   0   0 136]]\n"
     ]
    }
   ],
   "source": [
    "# display confusion matrix here \n",
    "# your code here\n",
    "# Find best permutation and accuracy\n",
    "unique_true = np.unique(label['Class'])\n",
    "true_label_to_int = {label: i for i, label in enumerate(unique_true)}\n",
    "yt_int = np.array([true_label_to_int[lbl] for lbl in label['Class']])\n",
    "yp_final = np.zeros_like(model.labels_)\n",
    "for i, new_label in enumerate(labelorder):\n",
    "    yp_final[model.labels_ == i] = new_label\n",
    "    \n",
    "cm = confusion_matrix(yt_int, yp_final)\n",
    "print(\"\\nConfusion Matrix:\")\n",
    "print(cm)"
   ]
  },
  {
   "cell_type": "markdown",
   "id": "553ee902",
   "metadata": {
    "deletable": false,
    "editable": false,
    "nbgrader": {
     "cell_type": "markdown",
     "checksum": "49b995d1748051a814f09ae8878096cd",
     "grade": false,
     "grade_id": "cell-b51181ebab84b037",
     "locked": true,
     "schema_version": 3,
     "solution": false,
     "task": false
    }
   },
   "source": [
    "#### f) Change linkage method and distance metric. Which ones lead the best performance? Print out the accuracy and confusion matrix for the best model.\n",
    "<br> Answer the Peer Review questions about this section. "
   ]
  },
  {
   "cell_type": "code",
   "execution_count": 40,
   "id": "f8b883f0",
   "metadata": {
    "deletable": false,
    "nbgrader": {
     "cell_type": "code",
     "checksum": "a13e0521cb941ebbe96ef06b0f48bf8c",
     "grade": false,
     "grade_id": "cell-03953f78e5852c9a",
     "locked": false,
     "schema_version": 3,
     "solution": true,
     "task": false
    }
   },
   "outputs": [
    {
     "name": "stdout",
     "output_type": "stream",
     "text": [
      "Building Hierarchical Clustering Model...\n",
      "Data shape: (801, 20531)\n",
      "Testing: linkage=ward, metric=euclidean\n",
      "Testing: linkage=complete, metric=euclidean\n",
      "Testing: linkage=complete, metric=l1\n",
      "Testing: linkage=complete, metric=l2\n",
      "Testing: linkage=complete, metric=manhattan\n",
      "Testing: linkage=complete, metric=cosine\n",
      "Testing: linkage=average, metric=euclidean\n",
      "Testing: linkage=average, metric=l1\n",
      "Testing: linkage=average, metric=l2\n",
      "Testing: linkage=average, metric=manhattan\n",
      "Testing: linkage=average, metric=cosine\n",
      "Testing: linkage=single, metric=euclidean\n",
      "Testing: linkage=single, metric=l1\n",
      "Testing: linkage=single, metric=l2\n",
      "Testing: linkage=single, metric=manhattan\n",
      "Testing: linkage=single, metric=cosine\n",
      "\n",
      "Best combination: linkage=ward, metric=euclidean\n",
      "labelorder: (0, 2, 4, 3, 1), acc: 0.9950062421972534\n",
      "\n",
      "Confusion Matrix:\n",
      "[299, 0, 0, 1, 0]    # BRCA: 299/300 correct (99.67%)\n",
      "[0, 77, 0, 1, 0]    # COAD: 77/78 correct (98.72%)\n",
      "[0, 0, 146, 0, 0]    # KIRC: 146/146 correct (100.00%)\n",
      "[2, 0, 0, 139, 0]    # LUAD: 139/141 correct (98.58%)\n",
      "[0, 0, 0, 0, 136]    # PRAD: 136/136 correct (100.00%)\n"
     ]
    }
   ],
   "source": [
    "# programmatically evaluate which linkage method and distance metric lead to the best performance\n",
    "# your code here\n",
    "\n",
    "\n",
    "# For gene expression data, we need to determine the number of clusters\n",
    "import pandas as pd\n",
    "import matplotlib.pyplot as plt\n",
    "import numpy as np\n",
    "from sklearn.cluster import AgglomerativeClustering, KMeans\n",
    "from sklearn.metrics import accuracy_score, confusion_matrix\n",
    "import time\n",
    "import itertools\n",
    "\n",
    "\n",
    "def label_permute_compare(ytdf,yp,n=5):\n",
    "    \"\"\"\n",
    "    ytdf: labels dataframe object\n",
    "    yp: clustering label prediction output\n",
    "    Returns permuted label order and accuracy. \n",
    "    Example output: (3, 4, 1, 2, 0), 0.74 \n",
    "    \"\"\"\n",
    "    # Convert dataframe to numpy array for easier handling\n",
    "    yt = ytdf.values.flatten() if hasattr(ytdf, 'values') else ytdf\n",
    "    \n",
    "    # Get unique labels from ground truth and predictions\n",
    "    unique_true = np.unique(yt)\n",
    "    unique_pred = np.unique(yp)\n",
    "    \n",
    "    # Ensure we have the same number of unique labels\n",
    "    n_classes = len(unique_true)\n",
    "    \n",
    "    # Create mapping from string labels to integers if needed\n",
    "    true_label_to_int = {label: i for i, label in enumerate(unique_true)}\n",
    "    yt_int = np.array([true_label_to_int[label] for label in yt])\n",
    "    \n",
    "    # Try all possible permutations of predicted labels\n",
    "    best_accuracy = 0\n",
    "    best_permutation = None\n",
    "    \n",
    "    # Generate all permutations of predicted cluster labels\n",
    "    for perm in itertools.permutations(range(n_classes)):\n",
    "        # Create mapping from old predicted labels to new labels based on permutation\n",
    "        yp_permuted = np.zeros_like(yp)\n",
    "        for i, new_label in enumerate(perm):\n",
    "            yp_permuted[yp == i] = new_label\n",
    "        \n",
    "        # Calculate accuracy for this permutation\n",
    "        accuracy = accuracy_score(yt_int, yp_permuted)\n",
    "        \n",
    "        # Keep track of best permutation\n",
    "        if accuracy > best_accuracy:\n",
    "            best_accuracy = accuracy\n",
    "            best_permutation = perm\n",
    "    \n",
    "    return best_permutation, best_accuracy\n",
    "\n",
    "def create_confusion_matrix(ytdf, yp, labelorder):\n",
    "    \"\"\"\n",
    "    ytdf: labels dataframe object\n",
    "    yp: clustering label prediction output\n",
    "    labelorder: best permutation of labels\n",
    "    Returns confusion matrix.\n",
    "    \"\"\"\n",
    "    # Convert dataframe to numpy array for easier handling\n",
    "    yt = ytdf.values.flatten() if hasattr(ytdf, 'values') else ytdf\n",
    "    \n",
    "    # Get unique labels from ground truth\n",
    "    unique_true = np.unique(yt)\n",
    "    \n",
    "    # Create mapping from string labels to integers if needed\n",
    "    true_label_to_int = {label: i for i, label in enumerate(unique_true)}\n",
    "    yt_int = np.array([true_label_to_int[label] for label in yt])\n",
    "    \n",
    "    # Apply the best permutation to get the final predicted labels\n",
    "    yp_final = np.zeros_like(yp)\n",
    "    for i, new_label in enumerate(labelorder):\n",
    "        yp_final[yp == i] = new_label\n",
    "    \n",
    "    # Create confusion matrix\n",
    "    cm = confusion_matrix(yt_int, yp_final)\n",
    "    \n",
    "    return cm\n",
    "\n",
    "def hierarchical_clustering_analysis(linkage_method='ward', n_clusters=5, metric='euclidean'):\n",
    "    ac_complete = AgglomerativeClustering(\n",
    "      n_clusters=n_clusters,\n",
    "      linkage=linkage_method,\n",
    "      metric=metric\n",
    "    )\n",
    "    model = ac_complete.fit(data)\n",
    "    return model\n",
    "\n",
    "\n",
    "# For gene expression data, we need to determine the number of clusters\n",
    "\n",
    "# Read data. Do not change the variable names (data, label)\n",
    "data = pd.read_csv('data/data.csv')\n",
    "label = pd.read_csv('data/labels.csv')\n",
    "data=data.drop('Unnamed: 0',axis=1)\n",
    "label=label.drop('Unnamed: 0',axis=1)\n",
    "\n",
    "# Build hierarchical clustering model\n",
    "print(\"Building Hierarchical Clustering Model...\")\n",
    "print(\"Data shape:\", data.shape)\n",
    "\n",
    "n_clusters = 5\n",
    "\n",
    "linkage_methods = ['ward', 'complete', 'average', 'single']\n",
    "metrics = ['euclidean', 'l1', 'l2', 'manhattan', 'cosine']\n",
    "\n",
    "best_accuracy = 0\n",
    "best_labelorder = None\n",
    "best_cm = None\n",
    "best_linkage = None\n",
    "best_metric = None\n",
    "\n",
    "# Loop through all valid combinations\n",
    "for linkage_method in linkage_methods:\n",
    "    for metric in metrics:\n",
    "        # Ward linkage only works with euclidean metric\n",
    "        if linkage_method == 'ward' and metric != 'euclidean':\n",
    "            continue\n",
    "            \n",
    "        print(f\"Testing: linkage={linkage_method}, metric={metric}\")\n",
    "        \n",
    "        try:\n",
    "            model = hierarchical_clustering_analysis(n_clusters=n_clusters, linkage_method=linkage_method, metric=metric)\n",
    "            labelorder, acc = label_permute_compare(label, model.labels_)\n",
    "            \n",
    "            if acc > best_accuracy:\n",
    "                best_accuracy = acc\n",
    "                best_labelorder = labelorder\n",
    "                best_linkage = linkage_method\n",
    "                best_metric = metric\n",
    "                best_cm = create_confusion_matrix(label, model.labels_, labelorder)\n",
    "                \n",
    "        except Exception as e:\n",
    "            # Skip invalid combinations\n",
    "            continue\n",
    "\n",
    "print(f\"\\nBest combination: linkage={best_linkage}, metric={best_metric}\")\n",
    "print(f\"labelorder: {best_labelorder}, acc: {best_accuracy}\")\n",
    "print(\"\\nConfusion Matrix:\")\n",
    "\n",
    "# Get unique classes for labeling\n",
    "unique_classes = np.unique(label['Class'])\n",
    "\n",
    "# Print confusion matrix with class labels and accuracy\n",
    "for i, row in enumerate(best_cm):\n",
    "    class_name = unique_classes[i]\n",
    "    correct = best_cm[i, i]\n",
    "    total = best_cm[i, :].sum()\n",
    "    accuracy_pct = (correct / total) * 100\n",
    "    \n",
    "    # Format row as clean integers\n",
    "    row_list = [int(x) for x in row]\n",
    "    row_str = str(row_list)\n",
    "    print(f\"{row_str}    # {class_name}: {correct}/{total} correct ({accuracy_pct:.2f}%)\")\n"
   ]
  },
  {
   "cell_type": "markdown",
   "id": "09b0e227",
   "metadata": {
    "deletable": false,
    "editable": false,
    "nbgrader": {
     "cell_type": "markdown",
     "checksum": "9eeef63c833a862a824bd957b4569d81",
     "grade": false,
     "grade_id": "cell-6cd5993178e6f606",
     "locked": true,
     "schema_version": 3,
     "solution": false,
     "task": false
    }
   },
   "source": [
    "### C. What about k-means clustering?\n",
    "Can we apply kmeans clustering on this data? Which clustering methods give a better performance? Is kmeans faster or slower?"
   ]
  },
  {
   "cell_type": "code",
   "execution_count": 42,
   "id": "3b458064",
   "metadata": {
    "deletable": false,
    "nbgrader": {
     "cell_type": "code",
     "checksum": "ff50d6cc5b9fbf0fface11dad35bfaba",
     "grade": false,
     "grade_id": "cell-2f77201b65ef6a7a",
     "locked": false,
     "schema_version": 3,
     "solution": true,
     "task": false
    }
   },
   "outputs": [
    {
     "name": "stdout",
     "output_type": "stream",
     "text": [
      "Testing KMeans clustering...\n",
      "Testing KMeans: init=k-means++, random_state=42\n",
      "Testing KMeans: init=k-means++, random_state=0\n",
      "Testing KMeans: init=k-means++, random_state=123\n",
      "Testing KMeans: init=k-means++, random_state=456\n",
      "Testing KMeans: init=k-means++, random_state=789\n",
      "Testing KMeans: init=random, random_state=42\n",
      "Testing KMeans: init=random, random_state=0\n",
      "Testing KMeans: init=random, random_state=123\n",
      "Testing KMeans: init=random, random_state=456\n",
      "Testing KMeans: init=random, random_state=789\n",
      "\n",
      "Best KMeans: init=random, random_state=42\n",
      "labelorder: (2, 0, 4, 1, 3), acc: 0.9950062421972534\n",
      "\n",
      "KMeans Confusion Matrix:\n",
      "[300, 0, 0, 0, 0]    # BRCA: 300/300 correct (100.00%)\n",
      "[0, 77, 0, 1, 0]    # COAD: 77/78 correct (98.72%)\n",
      "[1, 0, 145, 0, 0]    # KIRC: 145/146 correct (99.32%)\n",
      "[2, 0, 0, 139, 0]    # LUAD: 139/141 correct (98.58%)\n",
      "[0, 0, 0, 0, 136]    # PRAD: 136/136 correct (100.00%)\n",
      "Hierarchical Clustering (Ward+Euclidean): 2.144 seconds\n",
      "KMeans (best config): 2.587 seconds\n",
      "Speed ratio: KMeans is 0.8x faster than Hierarchical\n",
      "\n",
      "Accuracy Comparison:\n",
      "Hierarchical Clustering (Ward+Euclidean): 0.9950 (99.50%)\n",
      "KMeans (best config): 0.9950 (99.50%)\n"
     ]
    }
   ],
   "source": [
    "# try to apply kmeans clustering on this data\n",
    "# time kmeans to compare to hierarchical clustering \n",
    "# your code here\n",
    "# Test KMeans clustering with different parameters\n",
    "kmeans_results = []\n",
    "print(\"Testing KMeans clustering...\")\n",
    "\n",
    "# Test different random states and initialization methods\n",
    "init_methods = ['k-means++', 'random']\n",
    "random_states = [42, 0, 123, 456, 789]\n",
    "\n",
    "best_kmeans_accuracy = 0\n",
    "best_kmeans_labelorder = None\n",
    "best_kmeans_cm = None\n",
    "best_kmeans_params = None\n",
    "\n",
    "for init_method in init_methods:\n",
    "    for random_state in random_states:\n",
    "        print(f\"Testing KMeans: init={init_method}, random_state={random_state}\")\n",
    "        \n",
    "        start_time = time.time()\n",
    "        kmeans = KMeans(n_clusters=n_clusters, init=init_method, random_state=random_state, n_init=10)\n",
    "        kmeans_labels = kmeans.fit_predict(data)\n",
    "        kmeans_time = time.time() - start_time\n",
    "        \n",
    "        # Find best permutation for KMeans\n",
    "        labelorder_km, acc_km = label_permute_compare(label, kmeans_labels)\n",
    "        \n",
    "        if acc_km > best_kmeans_accuracy:\n",
    "            best_kmeans_accuracy = acc_km\n",
    "            best_kmeans_labelorder = labelorder_km\n",
    "            best_kmeans_cm = create_confusion_matrix(label, kmeans_labels, labelorder_km)\n",
    "            best_kmeans_params = f\"init={init_method}, random_state={random_state}\"\n",
    "        \n",
    "        kmeans_results.append({\n",
    "            'method': 'KMeans',\n",
    "            'params': f\"init={init_method}, rs={random_state}\",\n",
    "            'accuracy': acc_km,\n",
    "            'time': kmeans_time\n",
    "        })\n",
    "\n",
    "print(f\"\\nBest KMeans: {best_kmeans_params}\")\n",
    "print(f\"labelorder: {best_kmeans_labelorder}, acc: {best_kmeans_accuracy}\")\n",
    "print(\"\\nKMeans Confusion Matrix:\")\n",
    "for i, row in enumerate(best_kmeans_cm):\n",
    "    class_name = unique_classes[i]\n",
    "    correct = best_kmeans_cm[i, i]\n",
    "    total = best_kmeans_cm[i, :].sum()\n",
    "    accuracy_pct = (correct / total) * 100\n",
    "    \n",
    "    row_list = [int(x) for x in row]\n",
    "    row_str = str(row_list)\n",
    "    print(f\"{row_str}    # {class_name}: {correct}/{total} correct ({accuracy_pct:.2f}%)\")\n",
    "\n",
    "# Time the best hierarchical method specifically\n",
    "start_time = time.time()\n",
    "hc_model = hierarchical_clustering_analysis(n_clusters=n_clusters, linkage_method=best_linkage, metric=best_metric)\n",
    "hc_time = time.time() - start_time\n",
    "\n",
    "# Time the best KMeans method\n",
    "start_time = time.time()\n",
    "km_model = KMeans(n_clusters=n_clusters, init='k-means++', random_state=42, n_init=10)\n",
    "km_model.fit(data)\n",
    "km_time = time.time() - start_time\n",
    "\n",
    "print(f\"Hierarchical Clustering (Ward+Euclidean): {hc_time:.3f} seconds\")\n",
    "print(f\"KMeans (best config): {km_time:.3f} seconds\")\n",
    "print(f\"Speed ratio: KMeans is {hc_time/km_time:.1f}x faster than Hierarchical\")\n",
    "\n",
    "print(\"\\nAccuracy Comparison:\")\n",
    "print(f\"Hierarchical Clustering (Ward+Euclidean): {best_accuracy:.4f} ({best_accuracy*100:.2f}%)\")\n",
    "print(f\"KMeans (best config): {best_kmeans_accuracy:.4f} ({best_kmeans_accuracy*100:.2f}%)\")\n"
   ]
  },
  {
   "cell_type": "code",
   "execution_count": 43,
   "id": "0910b9e5-881e-4624-aea2-c6f4c4db6af3",
   "metadata": {},
   "outputs": [
    {
     "name": "stdout",
     "output_type": "stream",
     "text": [
      "Python 3.13.2\n"
     ]
    }
   ],
   "source": [
    "!python -V"
   ]
  },
  {
   "cell_type": "code",
   "execution_count": 44,
   "id": "7cee7d54-ecd7-40d2-ba5d-74ae7502922b",
   "metadata": {},
   "outputs": [
    {
     "name": "stdout",
     "output_type": "stream",
     "text": [
      "1.7.2\n"
     ]
    }
   ],
   "source": [
    "import sklearn\n",
    "print(sklearn.__version__)\n"
   ]
  },
  {
   "cell_type": "code",
   "execution_count": null,
   "id": "42144d66-f273-4d05-a045-23a2e363c186",
   "metadata": {},
   "outputs": [],
   "source": []
  }
 ],
 "metadata": {
  "colab": {
   "name": "HW2-clustering.ipynb",
   "provenance": []
  },
  "kernelspec": {
   "display_name": "Python 3 (ipykernel)",
   "language": "python",
   "name": "python3"
  },
  "language_info": {
   "codemirror_mode": {
    "name": "ipython",
    "version": 3
   },
   "file_extension": ".py",
   "mimetype": "text/x-python",
   "name": "python",
   "nbconvert_exporter": "python",
   "pygments_lexer": "ipython3",
   "version": "3.13.2"
  }
 },
 "nbformat": 4,
 "nbformat_minor": 5
}
